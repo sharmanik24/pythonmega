{
 "cells": [
  {
   "cell_type": "code",
   "execution_count": null,
   "id": "22a22991-e58b-4d94-83c2-391c14d01151",
   "metadata": {},
   "outputs": [],
   "source": [
    "Q28. Write a code to get the desired output of the following\n",
    "\n",
    "string = \"Big Data iNeuron\"\n",
    "desired_output = \"iNeuron\""
   ]
  },
  {
   "cell_type": "code",
   "execution_count": 1,
   "id": "0a9cf006-6ad5-48b5-a968-9ed98fa10ac0",
   "metadata": {},
   "outputs": [
    {
     "name": "stdout",
     "output_type": "stream",
     "text": [
      "iNeuron\n"
     ]
    }
   ],
   "source": [
    "string = \"Big Data iNeuron\"\n",
    "print(string[9:])"
   ]
  },
  {
   "cell_type": "code",
   "execution_count": null,
   "id": "efee8975-b5d3-4a0e-a3ce-3f397be69324",
   "metadata": {},
   "outputs": [],
   "source": [
    "Q29. Write a code to get the desired output of the following\n",
    "\n",
    "string = \"Big Data iNeuron\"\n",
    "desired_output = \"norueNi\""
   ]
  },
  {
   "cell_type": "code",
   "execution_count": 2,
   "id": "00eb8893-8b2f-4c2c-a5b0-445d407b34c4",
   "metadata": {},
   "outputs": [
    {
     "name": "stdout",
     "output_type": "stream",
     "text": [
      "norueNi\n"
     ]
    }
   ],
   "source": [
    "string = \"Big Data iNeuron\"\n",
    "# desired_output = \"norueNi\"\n",
    "\n",
    "print(string[-1:-8:-1])"
   ]
  },
  {
   "cell_type": "code",
   "execution_count": null,
   "id": "2329d2e3-3827-4da4-88aa-a68a0a827675",
   "metadata": {},
   "outputs": [],
   "source": [
    "Q30. Resverse the string given in the above question."
   ]
  },
  {
   "cell_type": "code",
   "execution_count": 3,
   "id": "efb769f5-5801-4c59-9b35-fbfdf16cb942",
   "metadata": {},
   "outputs": [
    {
     "name": "stdout",
     "output_type": "stream",
     "text": [
      "norueNi ataD giB\n"
     ]
    }
   ],
   "source": [
    "#reverse the string\n",
    "\n",
    "string = \"Big Data iNeuron\"\n",
    "print(string[::-1])"
   ]
  },
  {
   "cell_type": "code",
   "execution_count": null,
   "id": "7511bbaa-a4dc-4240-94bc-d57427bcd4e8",
   "metadata": {},
   "outputs": [],
   "source": [
    "Q33. How can you print the below string?\n",
    "\n",
    "'iNeuron's Big Data Course'"
   ]
  },
  {
   "cell_type": "code",
   "execution_count": 4,
   "id": "cb02ab33-f9f0-4970-9038-cc5d514e0aac",
   "metadata": {},
   "outputs": [
    {
     "name": "stdout",
     "output_type": "stream",
     "text": [
      "iNeuron's Big Data Course\n"
     ]
    }
   ],
   "source": [
    "#'iNeuron's Big Data Course'\n",
    "\n",
    "print('iNeuron\\'s Big Data Course')"
   ]
  },
  {
   "cell_type": "code",
   "execution_count": null,
   "id": "9790c523-8384-4261-a879-07bced48976d",
   "metadata": {},
   "outputs": [],
   "source": [
    "Q37. Write a code to access the word \"iNeuron\" from the given list.\n",
    "\n",
    "lst = [1,2,3,\"Hi\",[45,54, \"iNeuron\"], \"Big Data\"]"
   ]
  },
  {
   "cell_type": "code",
   "execution_count": 5,
   "id": "d9c00f87-bf6d-4170-9a19-79604a824b7c",
   "metadata": {},
   "outputs": [
    {
     "name": "stdout",
     "output_type": "stream",
     "text": [
      "iNeuron\n"
     ]
    }
   ],
   "source": [
    "# to access the word iNeuron\n",
    "lst = [1,2,3,\"Hi\",[45,54, \"iNeuron\"], \"Big Data\"]\n",
    "print(lst[4][2])"
   ]
  },
  {
   "cell_type": "code",
   "execution_count": null,
   "id": "eae9ddf8-b71a-4240-80d1-9dbc125d6955",
   "metadata": {},
   "outputs": [],
   "source": [
    "Q38. Take a list as an input from the user and find the length of the list."
   ]
  },
  {
   "cell_type": "code",
   "execution_count": 6,
   "id": "73d37a32-80a7-4048-b47a-2d47d9e110ee",
   "metadata": {},
   "outputs": [
    {
     "name": "stdin",
     "output_type": "stream",
     "text": [
      "Enter number of elements:  4\n",
      " gh\n",
      " jh\n",
      " gh\n",
      " kl\n"
     ]
    },
    {
     "name": "stdout",
     "output_type": "stream",
     "text": [
      "['gh', 'jh', 'gh', 'kl']\n",
      "number of elements in the list are :  4\n"
     ]
    }
   ],
   "source": [
    "# Take a list as an input from the user and find the length of the list.\n",
    "\n",
    "lst=[]\n",
    "n=int(input(\"Enter number of elements: \"))\n",
    "for i in range(0,n):\n",
    "    elements=input()\n",
    "    lst.append(elements)\n",
    "print(lst)\n",
    "\n",
    "print(\"number of elements in the list are : \",len(lst))"
   ]
  },
  {
   "cell_type": "code",
   "execution_count": null,
   "id": "b8e5cea3-1fa9-428d-a201-e3ce8b1b4c08",
   "metadata": {},
   "outputs": [],
   "source": [
    "Q39. Add the word \"Big\" in the 3rd index of the given list.\n",
    "\n",
    "lst = [\"Welcome\", \"to\", \"Data\", \"course\"]"
   ]
  },
  {
   "cell_type": "code",
   "execution_count": 7,
   "id": "b6d229c1-9238-4947-b8ff-b51632ecec95",
   "metadata": {},
   "outputs": [
    {
     "name": "stdout",
     "output_type": "stream",
     "text": [
      "['Welcome', 'to', 'big', 'Data', 'course']\n"
     ]
    }
   ],
   "source": [
    " # Add the word \"Big\" in the 3rd index of the given list.\n",
    "\n",
    "lst = [\"Welcome\", \"to\", \"Data\", \"course\"]\n",
    "lst.insert(2,\"big\")\n",
    "print(lst)"
   ]
  },
  {
   "cell_type": "code",
   "execution_count": null,
   "id": "76d4a8ec-caf8-4821-a146-c9d18fdbd031",
   "metadata": {},
   "outputs": [],
   "source": [
    "Q43. Can two tuple be appended. If yes, write a code for it. If not, why?"
   ]
  },
  {
   "cell_type": "code",
   "execution_count": 8,
   "id": "4adf554b-629d-43fb-84b1-d4ec3ed86f3f",
   "metadata": {},
   "outputs": [
    {
     "name": "stdout",
     "output_type": "stream",
     "text": [
      "(1, 4, 5, 7, 8, 3, 4, 8, 9, 0)\n"
     ]
    }
   ],
   "source": [
    "#appending two tuples\n",
    "\n",
    "my_tup1 = (1, 4, 5, 7, 8)\n",
    "my_tup2 = (3, 4, 8, 9, 0)\n",
    "\n",
    "new_tup = my_tup1 + my_tup2\n",
    "print(new_tup)"
   ]
  },
  {
   "cell_type": "code",
   "execution_count": null,
   "id": "17ab083a-a1c9-42cc-93fc-a11f563fa822",
   "metadata": {},
   "outputs": [],
   "source": [
    "Q44. Take a tuple as an input and print the count of elements in it."
   ]
  },
  {
   "cell_type": "code",
   "execution_count": 9,
   "id": "94dc6fb2-78d2-4ac6-874c-897f87cfa600",
   "metadata": {},
   "outputs": [
    {
     "name": "stdin",
     "output_type": "stream",
     "text": [
      "enter inputs  5\n"
     ]
    },
    {
     "name": "stdout",
     "output_type": "stream",
     "text": [
      "('5',)\n",
      "1\n"
     ]
    }
   ],
   "source": [
    "my_tup = tuple(input(\"enter inputs \").split())\n",
    "print(my_tup)\n",
    "print(len(my_tup))"
   ]
  },
  {
   "cell_type": "code",
   "execution_count": null,
   "id": "24ba7a5f-d465-42ee-91ef-aa45b0a0e9b1",
   "metadata": {},
   "outputs": [],
   "source": [
    "Q47. Create a set and add \"iNeuron\" in your set."
   ]
  },
  {
   "cell_type": "code",
   "execution_count": 10,
   "id": "5a944b72-0d90-477f-9434-96220474e845",
   "metadata": {},
   "outputs": [
    {
     "name": "stdout",
     "output_type": "stream",
     "text": [
      "{'iNeuron'}\n"
     ]
    }
   ],
   "source": [
    "my_set=set()\n",
    "my_set.add(\"iNeuron\")\n",
    "print(my_set)"
   ]
  },
  {
   "cell_type": "code",
   "execution_count": null,
   "id": "f84678a3-d337-4c93-a091-a1458f940061",
   "metadata": {},
   "outputs": [],
   "source": [
    "Q48. Try to add multiple values using add() function."
   ]
  },
  {
   "cell_type": "code",
   "execution_count": 11,
   "id": "327230ee-9009-435f-b1ee-052bdbb391e4",
   "metadata": {},
   "outputs": [
    {
     "name": "stdout",
     "output_type": "stream",
     "text": [
      "{1, 'bigdata', 'iNeuron', 43, 'hello'}\n"
     ]
    }
   ],
   "source": [
    "mysets=set()\n",
    "mysets.add(1)\n",
    "mysets.add(\"iNeuron\")\n",
    "mysets.add(\"bigdata\")\n",
    "mysets.add(43)\n",
    "mysets.add(\"hello\")\n",
    "print(mysets)"
   ]
  },
  {
   "cell_type": "code",
   "execution_count": null,
   "id": "f43eec5b-6dca-4544-9f5f-563141d056ad",
   "metadata": {},
   "outputs": [],
   "source": [
    "Q53. What is union() in sets? Explain via code."
   ]
  },
  {
   "cell_type": "code",
   "execution_count": 12,
   "id": "824ed10f-298e-402d-996a-182107211cad",
   "metadata": {},
   "outputs": [
    {
     "name": "stdout",
     "output_type": "stream",
     "text": [
      "The union of set_a and set_b is:  {0, 1, 66, 3, 4, 5, 6, 7, 8, 9}\n"
     ]
    }
   ],
   "source": [
    "#union of two sets;\n",
    "\n",
    "set_a = {1, 3, 6, 8, 9, 4, 5, 7}\n",
    "set_b = {3, 7, 9, 5, 0, 66, 9, 9}\n",
    "\n",
    "result = set_a|set_b\n",
    "print(\"The union of set_a and set_b is: \", result)"
   ]
  },
  {
   "cell_type": "code",
   "execution_count": null,
   "id": "927a8af4-d0f0-462d-9efb-c2b57e3cf901",
   "metadata": {},
   "outputs": [],
   "source": [
    "Q54. What is intersection() in sets? Explain via code."
   ]
  },
  {
   "cell_type": "code",
   "execution_count": 13,
   "id": "ba8cdb09-3919-49a4-a087-dce06170e16e",
   "metadata": {},
   "outputs": [
    {
     "name": "stdout",
     "output_type": "stream",
     "text": [
      "The result of intersection is :  {9, 3, 5, 7}\n"
     ]
    }
   ],
   "source": [
    "# intersection in sets:\n",
    "set_a = {1, 3, 6, 8, 9, 4, 5, 7}\n",
    "set_b = {3, 7, 9, 5, 0, 66, 9, 9}\n",
    "\n",
    "result = set_a & set_b\n",
    "print(\"The result of intersection is : \", result)"
   ]
  },
  {
   "cell_type": "code",
   "execution_count": null,
   "id": "abc99efa-0f45-4785-9dcb-7f4ecda0d244",
   "metadata": {},
   "outputs": [],
   "source": [
    "Q58. What will the output of the following?\n",
    "\n",
    "var = {}\n",
    "print(type(var))"
   ]
  },
  {
   "cell_type": "code",
   "execution_count": 14,
   "id": "6ae74908-28b0-4297-89a2-e5e5cad5a43b",
   "metadata": {},
   "outputs": [
    {
     "name": "stdout",
     "output_type": "stream",
     "text": [
      "<class 'dict'>\n"
     ]
    }
   ],
   "source": [
    "var = {}\n",
    "print(type(var))"
   ]
  },
  {
   "cell_type": "code",
   "execution_count": null,
   "id": "4ca4aa28-0e7c-4f64-bd76-eec1b36dbb17",
   "metadata": {},
   "outputs": [],
   "source": [
    "Q60. Create a dictionary and access all the values in that dictionary."
   ]
  },
  {
   "cell_type": "code",
   "execution_count": 15,
   "id": "58b17200-1a0d-4806-a749-f9329f04bbfc",
   "metadata": {},
   "outputs": [
    {
     "name": "stdout",
     "output_type": "stream",
     "text": [
      "Nikhil\n",
      "24\n",
      "HP\n",
      "India\n"
     ]
    }
   ],
   "source": [
    "#Create a dictionary and access all the values in that dictionary.\n",
    "\n",
    "dict_1={}\n",
    "dict_1[\"Name\"]= \"Nikhil\"\n",
    "dict_1[\"Age\"]=24\n",
    "dict_1[\"state\"]=\"HP\"\n",
    "dict_1[\"country\"]=\"India\"\n",
    "\n",
    "print(dict_1[\"Name\"])\n",
    "print(dict_1[\"Age\"])\n",
    "print(dict_1[\"state\"])\n",
    "print(dict_1[\"country\"])"
   ]
  },
  {
   "cell_type": "code",
   "execution_count": null,
   "id": "cfd49312-80de-497a-bdd4-de85fa4899c0",
   "metadata": {},
   "outputs": [],
   "source": [
    "Q61. Create a nested dictionary and access all the element in the inner dictionary."
   ]
  },
  {
   "cell_type": "code",
   "execution_count": 16,
   "id": "8a731854-ff80-4606-baa9-680558a61fd6",
   "metadata": {},
   "outputs": [
    {
     "name": "stdout",
     "output_type": "stream",
     "text": [
      "{'name': 'nikhil', 'age': 28, 'designation': 'engineer', 'other details': {'state': 'hp', 'nationality': 'Indian'}}\n",
      "nikhil\n",
      "Indian\n"
     ]
    }
   ],
   "source": [
    " # Create a nested dictionary and access all the element in the inner dictionary.\n",
    "\n",
    "dict_1 = {}\n",
    "dict_1['name'] = 'nikhil'\n",
    "dict_1['age'] = 28\n",
    "dict_1['designation'] = 'engineer'\n",
    "dict_1['other details'] = {'state' : 'hp', 'nationality' : 'Indian'}\n",
    "\n",
    "print(dict_1)\n",
    "print(dict_1['name'])\n",
    "print(dict_1['other details']['nationality'])"
   ]
  },
  {
   "cell_type": "code",
   "execution_count": null,
   "id": "136ebd38-1065-4cac-ad34-8d9e3b1acc1d",
   "metadata": {},
   "outputs": [],
   "source": [
    "Q76. Write a Python program to find the factorial of a given number."
   ]
  },
  {
   "cell_type": "code",
   "execution_count": 17,
   "id": "5748ad59-567c-434c-aaa2-3bc0ae4bd029",
   "metadata": {},
   "outputs": [
    {
     "name": "stdin",
     "output_type": "stream",
     "text": [
      "enter the number :  4\n"
     ]
    },
    {
     "name": "stdout",
     "output_type": "stream",
     "text": [
      "the factorial of the number is:  24\n"
     ]
    }
   ],
   "source": [
    "#factorial of a number:\n",
    "\n",
    "def factorial(num):\n",
    "    if num==1 or num==0:\n",
    "        return 1\n",
    "    else:\n",
    "        return (num*factorial(num-1))\n",
    "\n",
    "num=int(input(\"enter the number : \"))\n",
    "print(\"the factorial of the number is: \",factorial(num))"
   ]
  },
  {
   "cell_type": "code",
   "execution_count": null,
   "id": "89c3521e-c9ed-4203-a4f7-14feb8cd9436",
   "metadata": {},
   "outputs": [],
   "source": [
    "Q77. Write a Python program to calculate the simple interest. Formula to calculate simple interest is SI = (PRT)/100"
   ]
  },
  {
   "cell_type": "code",
   "execution_count": 18,
   "id": "a1847aa3-f4b2-4214-82f8-1f6490cd0bea",
   "metadata": {},
   "outputs": [
    {
     "name": "stdin",
     "output_type": "stream",
     "text": [
      "Enter the principle amount:  56\n",
      "Enter the rate of interest:  67\n",
      "Enter the time period:  78\n"
     ]
    },
    {
     "name": "stdout",
     "output_type": "stream",
     "text": [
      "The Simple Interest is=  2926.56\n"
     ]
    }
   ],
   "source": [
    "# To calculate simple interest\n",
    "\n",
    "p=int(input(\"Enter the principle amount: \"))\n",
    "r=int(input(\"Enter the rate of interest: \"))\n",
    "t=int(input(\"Enter the time period: \"))\n",
    "\n",
    "si=(p*r*t)/100\n",
    "print(\"The Simple Interest is= \", si)"
   ]
  },
  {
   "cell_type": "code",
   "execution_count": null,
   "id": "6966c00c-5b9b-4f4b-b598-6f8a3aa8683e",
   "metadata": {},
   "outputs": [],
   "source": [
    "Q78. Write a Python program to calculate the compound interest. Formula of compound interest is A = P(1+ R/100)^t."
   ]
  },
  {
   "cell_type": "code",
   "execution_count": 19,
   "id": "e22ca4af-b0c5-4563-8da3-8e55014957a8",
   "metadata": {},
   "outputs": [
    {
     "name": "stdin",
     "output_type": "stream",
     "text": [
      "Enter the principle amount:  1000\n",
      "Enter the rate of interest:  5\n",
      "Enter the time period:  2\n"
     ]
    },
    {
     "name": "stdout",
     "output_type": "stream",
     "text": [
      "The Compound Interest comes out to be =  1102.5\n"
     ]
    }
   ],
   "source": [
    "#Compound Interest\n",
    "\n",
    "p=int(input(\"Enter the principle amount: \"))\n",
    "r=int(input(\"Enter the rate of interest: \"))\n",
    "t=int(input(\"Enter the time period: \"))\n",
    "\n",
    "ci=p*((1+r/100)**t)\n",
    "print(\"The Compound Interest comes out to be = \", ci)"
   ]
  },
  {
   "cell_type": "code",
   "execution_count": null,
   "id": "95559602-ff8c-4401-aa8c-de324672f373",
   "metadata": {},
   "outputs": [],
   "source": [
    "Q79. Write a Python program to check if a number is prime or not."
   ]
  },
  {
   "cell_type": "code",
   "execution_count": 20,
   "id": "2249f45c-1882-4a88-9651-fdca74c544e6",
   "metadata": {},
   "outputs": [
    {
     "name": "stdin",
     "output_type": "stream",
     "text": [
      "Enter the number to be checked:  11\n"
     ]
    },
    {
     "name": "stdout",
     "output_type": "stream",
     "text": [
      "PRIME NUMBER\n"
     ]
    }
   ],
   "source": [
    "# To check prime number\n",
    "\n",
    "num=int(input(\"Enter the number to be checked: \"))\n",
    "for i in range(2,num):\n",
    "    if num%i==0:\n",
    "        print(\"NOT A PRIME NUMBER\")\n",
    "        break\n",
    "else:\n",
    "    print(\"PRIME NUMBER\")\n"
   ]
  },
  {
   "cell_type": "code",
   "execution_count": null,
   "id": "722c00b5-c1e8-4fe0-babd-abd26658032e",
   "metadata": {},
   "outputs": [],
   "source": [
    "Q80. Write a Python program to check Armstrong Number."
   ]
  },
  {
   "cell_type": "code",
   "execution_count": 21,
   "id": "3aaea786-85a2-48f2-8627-b120d5431afc",
   "metadata": {},
   "outputs": [
    {
     "name": "stdin",
     "output_type": "stream",
     "text": [
      "enter number 23\n"
     ]
    },
    {
     "name": "stdout",
     "output_type": "stream",
     "text": [
      "NO\n"
     ]
    }
   ],
   "source": [
    "#To check Armstrong number\n",
    "\n",
    "num=int(input(\"enter number\"))\n",
    "sum=0\n",
    "new_num=num\n",
    "n=len(str(num))\n",
    "\n",
    "while num>0:\n",
    "    m=num%10\n",
    "    sum += m**n\n",
    "    num=num//10\n",
    "\n",
    "if sum==new_num:\n",
    "    print(\"YES\")\n",
    "else:\n",
    "    print(\"NO\")"
   ]
  },
  {
   "cell_type": "code",
   "execution_count": null,
   "id": "46c2f9a1-90f3-4357-91bc-3ba78124f33f",
   "metadata": {},
   "outputs": [],
   "source": [
    "Q81. Write a Python program to find the n-th Fibonacci Number."
   ]
  },
  {
   "cell_type": "code",
   "execution_count": null,
   "id": "4fa76d63-587e-4bb7-8da8-6425b5eda701",
   "metadata": {},
   "outputs": [
    {
     "name": "stdin",
     "output_type": "stream",
     "text": [
      "Enter the number:  123\n"
     ]
    }
   ],
   "source": [
    "\n",
    "# Fibonacci Series:\n",
    "def fibonacci(n):\n",
    "    if n==1 or n==0:\n",
    "        return 1\n",
    "    else:\n",
    "        return (fibonacci(n-1)+fibonacci(n-2))\n",
    "\n",
    "n=int(input(\"Enter the number: \"))\n",
    "print(fibonacci(n))"
   ]
  },
  {
   "cell_type": "code",
   "execution_count": null,
   "id": "be11858c-ec30-4ab6-bfc2-b40700b78f5b",
   "metadata": {},
   "outputs": [],
   "source": [
    "Q82. Write a Python program to interchange the first and last element in a list."
   ]
  },
  {
   "cell_type": "code",
   "execution_count": null,
   "id": "ba9070fb-a557-4b97-af4e-c13ebd6f39e5",
   "metadata": {},
   "outputs": [],
   "source": [
    "# interchanging elements\n",
    "\n",
    "lst = [1, 3, 4, 6, 8, 9]\n",
    "lst[0], lst[-1] = lst[-1], lst[0]\n",
    "\n",
    "print(\"New list afte interchanging elements is: \", lst)\n"
   ]
  },
  {
   "cell_type": "code",
   "execution_count": null,
   "id": "e090f9ca-2d05-4a56-9417-fee7405cd2ea",
   "metadata": {},
   "outputs": [],
   "source": [
    "Q83. Write a Python program to swap two elements in a list."
   ]
  },
  {
   "cell_type": "code",
   "execution_count": null,
   "id": "c43be1a1-d705-4364-944b-6976a76e48b6",
   "metadata": {},
   "outputs": [],
   "source": [
    "# swap elements\n",
    "\n",
    "l = [1, 5, 7, 3, 4, 7, 9]\n",
    "temp = l[1]\n",
    "l[1] = l[4]\n",
    "l[4] = temp\n",
    "\n",
    "print(\"list after swapping: \", l)"
   ]
  },
  {
   "cell_type": "code",
   "execution_count": null,
   "id": "d78f39eb-82c0-46be-ad3e-88a1e596e373",
   "metadata": {},
   "outputs": [],
   "source": [
    "Q84. Write a Python program to find N largest element from a list."
   ]
  },
  {
   "cell_type": "code",
   "execution_count": null,
   "id": "d2313a77-0908-4f0c-b8fe-dfc28f2a319f",
   "metadata": {},
   "outputs": [],
   "source": [
    "#finding largest element\n",
    "\n",
    "l = []\n",
    "n = int(input(\"Enter length of list: \"))\n",
    "for i in range(0, n+1):\n",
    "    e=int(input(\"Enter the elements: \"))\n",
    "    l.append(e)\n",
    "print(l)\n",
    "print(\"Largest element in the list is\", max(l))\n",
    "\n"
   ]
  },
  {
   "cell_type": "code",
   "execution_count": null,
   "id": "aa911fd5-97cb-4c1d-9a84-03008710a6e6",
   "metadata": {},
   "outputs": [],
   "source": [
    "Q85. Write a Python program to find cumulative sum of a list."
   ]
  },
  {
   "cell_type": "code",
   "execution_count": null,
   "id": "d1a68382-fcf8-442d-935b-d0f23084b228",
   "metadata": {},
   "outputs": [],
   "source": [
    "#cumulative sum of a list\n",
    "\n",
    "lst = [23, 56, 45, 99, 76]\n",
    "m=0\n",
    "for i in lst:\n",
    "    m=m+i\n",
    "print(\"The cumulative sum of the list is = \", m)\n"
   ]
  },
  {
   "cell_type": "code",
   "execution_count": null,
   "id": "9d98105f-60f0-444d-ab74-4de77ea2cbd3",
   "metadata": {},
   "outputs": [],
   "source": [
    "Q86. Write a Python program to check if a string is palindrome or not."
   ]
  },
  {
   "cell_type": "code",
   "execution_count": null,
   "id": "0cc35953-5bed-46f5-851d-a45e934f9830",
   "metadata": {},
   "outputs": [],
   "source": [
    "#Palindrome String\n",
    "\n",
    "str = input(\"Enter a string: \")\n",
    "str1 = str[-1::-1]\n",
    "\n",
    "if str==str1:\n",
    "    print(\"YES! it is a palindrome\")\n",
    "else:\n",
    "    print(\"NO it is not a palindrome\")"
   ]
  },
  {
   "cell_type": "code",
   "execution_count": null,
   "id": "a160cdaf-08e5-4004-af99-c0f6d155b8dc",
   "metadata": {},
   "outputs": [],
   "source": [
    "Q87. Write a Python program to remove i'th element from a string."
   ]
  },
  {
   "cell_type": "code",
   "execution_count": null,
   "id": "1fe64052-2ac1-426b-8ae2-399ba27b67a4",
   "metadata": {},
   "outputs": [],
   "source": [
    "str=input(\"Enter string: \")\n",
    "n=int(input(\"enter the ith number: \"))\n",
    "\n",
    "a=str[0:n-1]\n",
    "b=str[n:]\n",
    "\n",
    "print(\"The output is= \", a+b)"
   ]
  },
  {
   "cell_type": "code",
   "execution_count": null,
   "id": "a09f5baa-8529-4637-bd20-f9730d6e351f",
   "metadata": {},
   "outputs": [],
   "source": [
    "Q88. Write a Python program to check if a substring is present in a given string."
   ]
  },
  {
   "cell_type": "code",
   "execution_count": null,
   "id": "2d743709-3b02-4fc5-a345-cf281c8b48b3",
   "metadata": {},
   "outputs": [],
   "source": [
    "# to find sub-string\n",
    "\n",
    "str=input(\"Enter string: \")\n",
    "sub_str=input(\"Enter sub-dtring: \")\n",
    "\n",
    "if sub_str in str:\n",
    "    print(\"yes it is PRESENT\")\n",
    "else:\n",
    "    print(\"no NOT present\")"
   ]
  },
  {
   "cell_type": "code",
   "execution_count": null,
   "id": "d66a343f-ed67-4064-b024-47ce473df017",
   "metadata": {},
   "outputs": [],
   "source": [
    "Q89. Write a Python program to find words which are greater than given length k."
   ]
  },
  {
   "cell_type": "code",
   "execution_count": null,
   "id": "2dda0c5d-6313-4b55-b1c1-b091282d7221",
   "metadata": {},
   "outputs": [],
   "source": [
    "str=[\"world\", \"is\", \"a\", \"beautiful\", \"place\"]\n",
    "k=int(input())\n",
    "for i in str:\n",
    "    if len(i)>k:\n",
    "       print(i)"
   ]
  },
  {
   "cell_type": "code",
   "execution_count": null,
   "id": "cb39c98f-e77a-4d8b-9c11-819786bc0b8e",
   "metadata": {},
   "outputs": [],
   "source": [
    "Q90. Write a Python program to extract unquire dictionary values."
   ]
  },
  {
   "cell_type": "code",
   "execution_count": null,
   "id": "b55bf86b-ec9b-40bd-8843-b2a0e3e5b248",
   "metadata": {},
   "outputs": [],
   "source": [
    "# Write a Python program to extract unquire dictionary values.\n",
    "\n",
    "dict = {1:\"Nikhil\", 2:\"Akshit\", 3:\"Sharma\", 4:\"Akshit\", 5:\"Abhishek\"}\n",
    "print(set(dict.values()))"
   ]
  },
  {
   "cell_type": "code",
   "execution_count": null,
   "id": "0e855a9b-239e-4bd9-8e3a-9694a3296ffa",
   "metadata": {},
   "outputs": [],
   "source": [
    "Q91. Write a Python program to merge two dictionary."
   ]
  },
  {
   "cell_type": "code",
   "execution_count": null,
   "id": "7e11b555-e8a2-477d-9514-8a9e7b58b330",
   "metadata": {},
   "outputs": [],
   "source": [
    "# Write a Python program to merge two dictionary.\n",
    "\n",
    "dict_1 = {1: \"Hello\", 2:\"Nikhil\", 3:\"Sharma\"}\n",
    "dict_2 = {\"a\": 24, \"b\": \"24nov\"}\n",
    "\n",
    "print(dict_1|dict_2)"
   ]
  },
  {
   "cell_type": "code",
   "execution_count": null,
   "id": "d24e3979-4edd-435a-b468-6e1e2b158402",
   "metadata": {},
   "outputs": [],
   "source": [
    "Q92. Write a Python program to convert a list of tuples into dictionary.\n",
    "\n",
    "Input : [('Sachin', 10), ('MSD', 7), ('Kohli', 18), ('Rohit', 45)]\n",
    "Output : {'Sachin': 10, 'MSD': 7, 'Kohli': 18, 'Rohit': 45}"
   ]
  },
  {
   "cell_type": "code",
   "execution_count": null,
   "id": "b43bb14b-b337-4529-b487-aaa525581a62",
   "metadata": {},
   "outputs": [],
   "source": [
    "# Python program to convert a list of tuples into dictionary.\n",
    "\n",
    "Input = [('Sachin', 10), ('MSD', 7), ('Kohli', 18), ('Rohit', 45)]\n",
    "output=(dict(Input))\n",
    "print(\"Converted outcome: \", output)"
   ]
  },
  {
   "cell_type": "code",
   "execution_count": null,
   "id": "658c2443-9ae2-4922-b8b6-fe43abbd7753",
   "metadata": {},
   "outputs": [],
   "source": [
    "Q93. Write a Python program to create a list of tuples from given list having number and its cube in each tuple.\n",
    "\n",
    "Input: list = [9, 5, 6]\n",
    "Output: [(9, 729), (5, 125), (6, 216)]"
   ]
  },
  {
   "cell_type": "code",
   "execution_count": null,
   "id": "b7ee93c0-8fc3-401a-b29e-0455ef66c66e",
   "metadata": {},
   "outputs": [],
   "source": [
    "# Write a Python program to create a list of tuples from given list having number and its cube in each tuple.\n",
    "\n",
    "lst = [9, 5, 6]\n",
    "b=[]\n",
    "for v in lst:\n",
    "    n=(v,(v**3))\n",
    "    b.append(n)\n",
    "print(b)"
   ]
  },
  {
   "cell_type": "code",
   "execution_count": null,
   "id": "967e1c67-0f01-41ae-acd8-5031540c10f2",
   "metadata": {},
   "outputs": [],
   "source": [
    "Q94. Write a Python program to get all combinations of 2 tuples.\n",
    "\n",
    "Input : test_tuple1 = (7, 2), test_tuple2 = (7, 8)\n",
    "Output : [(7, 7), (7, 8), (2, 7), (2, 8), (7, 7), (7, 2), (8, 7), (8, 2)]"
   ]
  },
  {
   "cell_type": "code",
   "execution_count": null,
   "id": "cfe98d5b-af9d-4def-b83d-2885337b6cd7",
   "metadata": {},
   "outputs": [],
   "source": [
    "test_tuple1 = (7, 2)\n",
    "test_tuple2 = (7, 8)\n",
    "\n",
    "result = [(x,y) for x in test_tuple1 for y in test_tuple2]\n",
    "result = result+[(x,y) for x in test_tuple2 for y in test_tuple1]\n",
    "print(result)"
   ]
  },
  {
   "cell_type": "code",
   "execution_count": null,
   "id": "6fc64ff2-2ca9-42f6-b2dd-9f9787df7285",
   "metadata": {},
   "outputs": [],
   "source": [
    "Q95. Write a Python program to sort a list of tuples by second item.\n",
    "\n",
    "Input : [('for', 24), ('Geeks', 8), ('Geeks', 30)] \n",
    "Output : [('Geeks', 8), ('for', 24), ('Geeks', 30)]"
   ]
  },
  {
   "cell_type": "code",
   "execution_count": null,
   "id": "19ff9fd9-fbe6-41a1-b79e-ea1e86ab4171",
   "metadata": {},
   "outputs": [],
   "source": [
    "# Write a Python program to sort a list of tuples by second item.\n",
    "\n",
    "lst = [('for', 24), ('Geeks', 8), ('Geeks', 30)]\n",
    "lst.sort(key=lambda a:a[1])\n",
    "print(lst)"
   ]
  },
  {
   "cell_type": "code",
   "execution_count": null,
   "id": "a80e0c3b-ce88-4982-870f-d5d5490a2b9a",
   "metadata": {},
   "outputs": [],
   "source": [
    "Q96. Write a python program to print below pattern.\n",
    "\n",
    "* \n",
    "* * \n",
    "* * * \n",
    "* * * * \n",
    "* * * * * "
   ]
  },
  {
   "cell_type": "code",
   "execution_count": null,
   "id": "34e06be0-d441-4aee-b533-c62d01857231",
   "metadata": {},
   "outputs": [],
   "source": [
    "n=5\n",
    "for i in range(0,n+1):\n",
    "    for j in range(1,i+1):\n",
    "        print(\"*\",end=\"\")\n",
    "    print(\"\")"
   ]
  },
  {
   "cell_type": "code",
   "execution_count": null,
   "id": "1639d2a2-8110-4087-a725-67eff39236e8",
   "metadata": {},
   "outputs": [],
   "source": [
    "Q97. Write a python program to print below pattern.\n",
    "\n",
    "    *\n",
    "   **\n",
    "  ***\n",
    " ****\n",
    "*****"
   ]
  },
  {
   "cell_type": "code",
   "execution_count": null,
   "id": "f9a39664-a778-4145-a5a5-a8207e94fd63",
   "metadata": {},
   "outputs": [],
   "source": [
    "n=5\n",
    "for i in range(n):\n",
    "    for j in range(1,n-i):\n",
    "        print(\" \", end=\" \")\n",
    "    for k in range(0, i+1):\n",
    "        print(\"*\", end=\" \")\n",
    "    print()"
   ]
  },
  {
   "cell_type": "code",
   "execution_count": null,
   "id": "19c7263c-0ee2-47a0-8aef-0419a354efb2",
   "metadata": {},
   "outputs": [],
   "source": [
    "Q98. Write a python program to print below pattern.\n",
    "\n",
    "    * \n",
    "   * * \n",
    "  * * * \n",
    " * * * * \n",
    "* * * * * "
   ]
  },
  {
   "cell_type": "code",
   "execution_count": null,
   "id": "f03f19d9-6c8f-46cf-9bfd-ff05d98b7f70",
   "metadata": {},
   "outputs": [],
   "source": [
    "n=5\n",
    "for i in range(1,n+1):\n",
    "    for j in range(n-i):\n",
    "        print(\" \", end=\" \")\n",
    "    for k in range(2*i-1):\n",
    "        print(\"*\", end=\" \")\n",
    "    print()"
   ]
  },
  {
   "cell_type": "code",
   "execution_count": null,
   "id": "981af4c0-da42-44d9-b888-24cb41f91bfd",
   "metadata": {},
   "outputs": [],
   "source": [
    "Q99. Write a python program to print below pattern.\n",
    "\n",
    "1 \n",
    "1 2 \n",
    "1 2 3 \n",
    "1 2 3 4 \n",
    "1 2 3 4 5"
   ]
  },
  {
   "cell_type": "code",
   "execution_count": null,
   "id": "8d744dc7-6487-446d-9468-893a2542de73",
   "metadata": {},
   "outputs": [],
   "source": []
  }
 ],
 "metadata": {
  "kernelspec": {
   "display_name": "Python 3 (ipykernel)",
   "language": "python",
   "name": "python3"
  },
  "language_info": {
   "codemirror_mode": {
    "name": "ipython",
    "version": 3
   },
   "file_extension": ".py",
   "mimetype": "text/x-python",
   "name": "python",
   "nbconvert_exporter": "python",
   "pygments_lexer": "ipython3",
   "version": "3.10.6"
  }
 },
 "nbformat": 4,
 "nbformat_minor": 5
}
